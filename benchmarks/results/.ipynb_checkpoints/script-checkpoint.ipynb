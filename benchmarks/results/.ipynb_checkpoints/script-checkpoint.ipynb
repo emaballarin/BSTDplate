{
 "cells": [
  {
   "cell_type": "code",
   "execution_count": 1,
   "metadata": {
    "ExecuteTime": {
     "end_time": "2020-02-18T20:54:57.497538Z",
     "start_time": "2020-02-18T20:54:55.848656Z"
    }
   },
   "outputs": [
    {
     "name": "stdout",
     "output_type": "stream",
     "text": [
      "figure saved\n"
     ]
    }
   ],
   "source": [
    "import numpy as np\n",
    "import matplotlib.pyplot as plt\n",
    "import copy\n",
    "import sys\n",
    "\n",
    "lis = [\"bst_double_double_b.txt\", \"umap_double_double.txt\", \"bst_double_double_u.txt\", \"map_double_double.txt\", \"bst_int_int_b.txt\", \"map_int_int.txt\", \"bst_int_int_u.txt\", \"umap_int_int.txt\", \"bst_char_char_b.txt\", \"map_char_char.txt\", \"bst_char_char_u.txt\", \"umap_char_char.txt\"]\n",
    "\n",
    "#lis = [\"bst_int_int\"]\n",
    "data = np.zeros((50,12))\n",
    "for i, item in enumerate(lis):\n",
    "       data[:,i] = np.loadtxt(item)\n",
    "        #print(item+\".txt\")\n",
    "\n",
    "data = np.array(data)\n",
    "x = np.arange(1, 51)\n",
    "\n",
    "x = 100000*x\n",
    "\n",
    "#for i, item in enumerate(lis[:4]):\n",
    "#    plt.plot(x, (data[:,i]), label=item)\n",
    "    \n",
    "#plt.xlabel(\"pairs(int, int)\")\n",
    "#plt.ylabel(\"seconds\")\n",
    "#plt.legend(loc='upper left')\n",
    "#plt.grid()\n",
    "#plt.show()\n",
    "#plt.savefig('int_int.png', dpi=600, bbox_inches='tight', pad_inches=0.0)\n",
    "#print(\"figure saved\")"
   ]
  },
  {
   "cell_type": "code",
   "execution_count": 2,
   "metadata": {
    "ExecuteTime": {
     "end_time": "2020-02-18T20:55:28.994140Z",
     "start_time": "2020-02-18T20:55:27.748161Z"
    }
   },
   "outputs": [
    {
     "name": "stdout",
     "output_type": "stream",
     "text": [
      "figure saved\n"
     ]
    }
   ],
   "source": [
    "for i, item in enumerate(lis[4:8]):\n",
    "    plt.plot(x, (data[:,i+4]), label=item)\n",
    "    \n",
    "plt.xlabel(\"pairs(int, int)\")\n",
    "plt.ylabel(\"seconds\")\n",
    "plt.legend(loc='upper left')\n",
    "plt.grid()\n",
    "#plt.show()\n",
    "plt.savefig('double_double.png', dpi=600, bbox_inches='tight', pad_inches=0.0)\n",
    "print(\"figure saved\")"
   ]
  },
  {
   "cell_type": "code",
   "execution_count": 6,
   "metadata": {
    "scrolled": true
   },
   "outputs": [
    {
     "name": "stdout",
     "output_type": "stream",
     "text": [
      "figure saved\n"
     ]
    }
   ],
   "source": [
    "for i, item in enumerate(lis[8:12]):\n",
    "    plt.plot(x, (data[:,i+8]), label=item)\n",
    "    \n",
    "plt.xlabel(\"pairs(int, int)\")\n",
    "plt.ylabel(\"seconds\")\n",
    "plt.legend(loc='upper left')\n",
    "plt.grid()\n",
    "#plt.show()\n",
    "plt.savefig('char_char.png', dpi=600, bbox_inches='tight', pad_inches=0.0)\n",
    "print(\"figure saved\")"
   ]
  },
  {
   "cell_type": "code",
   "execution_count": null,
   "metadata": {},
   "outputs": [],
   "source": []
  },
  {
   "cell_type": "code",
   "execution_count": null,
   "metadata": {},
   "outputs": [],
   "source": []
  }
 ],
 "metadata": {
  "kernelspec": {
   "display_name": "Python 3",
   "language": "python",
   "name": "python3"
  },
  "language_info": {
   "codemirror_mode": {
    "name": "ipython",
    "version": 3
   },
   "file_extension": ".py",
   "mimetype": "text/x-python",
   "name": "python",
   "nbconvert_exporter": "python",
   "pygments_lexer": "ipython3",
   "version": "3.6.9"
  },
  "latex_envs": {
   "LaTeX_envs_menu_present": true,
   "autoclose": true,
   "autocomplete": true,
   "bibliofile": "biblio.bib",
   "cite_by": "apalike",
   "current_citInitial": 1,
   "eqLabelWithNumbers": true,
   "eqNumInitial": 1,
   "hotkeys": {
    "equation": "Ctrl-E",
    "itemize": "Ctrl-I"
   },
   "labels_anchors": false,
   "latex_user_defs": false,
   "report_style_numbering": false,
   "user_envs_cfg": false
  },
  "varInspector": {
   "cols": {
    "lenName": 16,
    "lenType": 16,
    "lenVar": 40
   },
   "kernels_config": {
    "python": {
     "delete_cmd_postfix": "",
     "delete_cmd_prefix": "del ",
     "library": "var_list.py",
     "varRefreshCmd": "print(var_dic_list())"
    },
    "r": {
     "delete_cmd_postfix": ") ",
     "delete_cmd_prefix": "rm(",
     "library": "var_list.r",
     "varRefreshCmd": "cat(var_dic_list()) "
    }
   },
   "types_to_exclude": [
    "module",
    "function",
    "builtin_function_or_method",
    "instance",
    "_Feature"
   ],
   "window_display": false
  }
 },
 "nbformat": 4,
 "nbformat_minor": 2
}
